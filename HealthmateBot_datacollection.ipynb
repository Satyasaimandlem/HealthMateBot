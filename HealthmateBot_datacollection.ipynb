{
  "cells": [
    {
      "cell_type": "markdown",
      "metadata": {
        "id": "view-in-github",
        "colab_type": "text"
      },
      "source": [
        "<a href=\"https://colab.research.google.com/github/Satyasaimandlem/HealthMateBot/blob/main/HealthmateBot_datacollection.ipynb\" target=\"_parent\"><img src=\"https://colab.research.google.com/assets/colab-badge.svg\" alt=\"Open In Colab\"/></a>"
      ]
    },
    {
      "cell_type": "markdown",
      "id": "51774db0",
      "metadata": {
        "id": "51774db0"
      },
      "source": [
        "# HealthmateBot-Datbase Creation"
      ]
    },
    {
      "cell_type": "markdown",
      "id": "6896c450",
      "metadata": {
        "id": "6896c450"
      },
      "source": [
        "We aimed to create a database for our Healthmate bot within the sensitive healthcare domain, where data provided to the user must be accurate and trustworthy. However, sourcing open-source data posed a challenge due to its sensitive nature. Our bot's primary objective was to provide related diagnoses based on user-provided symptoms, yet acquiring a complete dataset of symptoms and associated conditions proved elusive. Consequently, we shifted focus to offering summaries and relevant physician specialties, along with nearby hospitals specializing in those areas, leveraging available resources. The latest XML data was imported from https://medlineplus.gov/xml.html, and the code below demonstrates the conversion of the XML file into a CSV format."
      ]
    },
    {
      "cell_type": "markdown",
      "id": "775d5182",
      "metadata": {
        "id": "775d5182"
      },
      "source": [
        "To gather information on various conditions and their summaries, the latest XML data is imported from https://medlineplus.gov/xml.html. The code provided below facilitates the conversion of the XML file into a CSV format. This resulting file contains essential details such as the Condition, Also Called, and Full Summary.\n"
      ]
    },
    {
      "cell_type": "code",
      "execution_count": null,
      "id": "09111463",
      "metadata": {
        "id": "09111463",
        "outputId": "87153001-0f96-45ee-e6fc-ecb6027b607a"
      },
      "outputs": [
        {
          "name": "stdout",
          "output_type": "stream",
          "text": [
            "Data saved successfully as tag_responses_data.csv\n"
          ]
        }
      ],
      "source": [
        "import csv\n",
        "import json\n",
        "\n",
        "# Read data from the CSV file with 'latin-1' encoding\n",
        "with open('Book1.csv', mode='r', encoding='latin-1') as file:\n",
        "    csv_reader = csv.DictReader(file)\n",
        "    data = [row for row in csv_reader]\n",
        "\n",
        "# Extract 'tag' and 'responses' fields\n",
        "tag_responses_data = []\n",
        "for row in data:\n",
        "    tag = row['tag']\n",
        "    responses = json.loads(row['responses'])\n",
        "    for response in responses:\n",
        "        tag_responses_data.append([tag, response.strip()])\n",
        "\n",
        "# Save the data to a new CSV file\n",
        "with open('tag_responses_data.csv', 'w', newline='', encoding='utf-8') as file:\n",
        "    writer = csv.writer(file)\n",
        "    writer.writerow(['Tag', 'Responses'])  # Writing the header\n",
        "    writer.writerows(tag_responses_data)  # Writing the data rows\n",
        "\n",
        "print(\"Data saved successfully as tag_responses_data.csv\")"
      ]
    },
    {
      "cell_type": "markdown",
      "id": "18e72639",
      "metadata": {
        "id": "18e72639"
      },
      "source": [
        "The summary section was lengthy, and we condensed it into a shorter, more concise form as given below."
      ]
    },
    {
      "cell_type": "code",
      "execution_count": null,
      "id": "3d42c101",
      "metadata": {
        "id": "3d42c101"
      },
      "outputs": [],
      "source": [
        "import pandas as pd\n",
        "import spacy\n",
        "\n",
        "# Load the English tokenizer, tagger, parser, NER, and word vectors\n",
        "nlp = spacy.load(\"en_core_web_sm\")\n",
        "\n",
        "# Read the CSV file\n",
        "df = pd.read_csv('health_topics.csv')\n",
        "\n",
        "# Access the 'Full Summary' column\n",
        "summaries = df['Full Summary']\n",
        "\n",
        "# Initialize a list to store the condensed summaries\n",
        "condensed_summaries = []\n",
        "\n",
        "# Loop through the summaries and apply NLP processing\n",
        "for summary in summaries:\n",
        "    doc = nlp(summary)\n",
        "\n",
        "    # Extract the most relevant sentences, e.g., the first two sentences\n",
        "    condensed_summary = ' '.join([sent.text for sent in doc.sents][:2])\n",
        "\n",
        "    # Append the condensed summary to the list\n",
        "    condensed_summaries.append(condensed_summary)\n",
        "\n",
        "# Add the condensed summaries to the DataFrame\n",
        "df['Condensed Summary'] = condensed_summaries\n",
        "\n",
        "# Save the DataFrame to a new CSV file\n",
        "df.to_csv('health_topics_condensed.csv', index=False)\n"
      ]
    },
    {
      "cell_type": "markdown",
      "id": "b1ea85da",
      "metadata": {
        "id": "b1ea85da"
      },
      "source": [
        "However, this data lacks relevant physician department information such as Endocrinology for diabetes. To address this gap, we utilized web scraping to extract the body part associated with each medical condition using the code provided below. This process generates data containing the condition and its relevant body part associations. Subsequently, based on these body part associations, we tagged the relevant physician departments."
      ]
    },
    {
      "cell_type": "code",
      "execution_count": null,
      "id": "f91b1472",
      "metadata": {
        "id": "f91b1472",
        "outputId": "58c03520-db60-4bce-81c5-3b0ee1893667"
      },
      "outputs": [
        {
          "name": "stdout",
          "output_type": "stream",
          "text": [
            "Data from https://medlineplus.gov/bloodheartandcirculation.html written to output.csv successfully.\n",
            "Data from https://medlineplus.gov/bonesjointsandmuscles.html written to output.csv successfully.\n",
            "Data from https://medlineplus.gov/brainandnerves.html written to output.csv successfully.\n",
            "Data from https://medlineplus.gov/digestivesystem.html written to output.csv successfully.\n",
            "Data from https://medlineplus.gov/earnoseandthroat.html written to output.csv successfully.\n",
            "Data from https://medlineplus.gov/endocrinesystem.html written to output.csv successfully.\n",
            "Data from https://medlineplus.gov/eyesandvision.html written to output.csv successfully.\n",
            "Data from https://medlineplus.gov/immunesystem.html written to output.csv successfully.\n",
            "Data from https://medlineplus.gov/kidneysandurinarysystem.html written to output.csv successfully.\n",
            "Data from https://medlineplus.gov/lungsandbreathing.html written to output.csv successfully.\n",
            "Data from https://medlineplus.gov/mouthandteeth.html written to output.csv successfully.\n",
            "Data from https://medlineplus.gov/skinhairandnails.html written to output.csv successfully.\n",
            "Data from https://medlineplus.gov/femalereproductivesystem.html written to output.csv successfully.\n",
            "Data from https://medlineplus.gov/malereproductivesystem.html written to output.csv successfully.\n",
            "Data from https://medlineplus.gov/cancers.html written to output.csv successfully.\n",
            "Data from https://medlineplus.gov/diabetesmellitus.html written to output.csv successfully.\n",
            "Data from https://medlineplus.gov/geneticsbirthdefects.html written to output.csv successfully.\n",
            "Data from https://medlineplus.gov/infections.html written to output.csv successfully.\n",
            "Data from https://medlineplus.gov/mentalhealthandbehavior.html written to output.csv successfully.\n",
            "Data from https://medlineplus.gov/metabolicproblems.html written to output.csv successfully.\n",
            "Data from https://medlineplus.gov/injuriesandwounds.html written to output.csv successfully.\n",
            "Data from https://medlineplus.gov/poisoningtoxicologyenvironmentalhealth.html written to output.csv successfully.\n",
            "Data from https://medlineplus.gov/pregnancyandreproduction.html written to output.csv successfully.\n",
            "Data from https://medlineplus.gov/substanceabuseproblems.html written to output.csv successfully.\n",
            "Data from https://medlineplus.gov/complementaryandalternativetherapies.html written to output.csv successfully.\n",
            "Data from https://medlineplus.gov/diagnostictests.html written to output.csv successfully.\n",
            "Data from https://medlineplus.gov/drugtherapy.html written to output.csv successfully.\n",
            "Data from https://medlineplus.gov/surgeryandrehabilitation.html written to output.csv successfully.\n",
            "Data from https://medlineplus.gov/symptoms.html written to output.csv successfully.\n",
            "Data from https://medlineplus.gov/transplantationanddonation.html written to output.csv successfully.\n",
            "Data from https://medlineplus.gov/childrenandteenagers.html written to output.csv successfully.\n",
            "Data from https://medlineplus.gov/men.html written to output.csv successfully.\n",
            "Data from https://medlineplus.gov/olderadults.html written to output.csv successfully.\n",
            "Data from https://medlineplus.gov/populationgroups.html written to output.csv successfully.\n",
            "Data from https://medlineplus.gov/women.html written to output.csv successfully.\n"
          ]
        }
      ],
      "source": [
        "import requests\n",
        "from bs4 import BeautifulSoup\n",
        "import csv\n",
        "\n",
        "# Function to scrape and extract data\n",
        "def scrape_data(url):\n",
        "    response = requests.get(url)\n",
        "    soup = BeautifulSoup(response.text, 'html.parser')\n",
        "\n",
        "    bodypart_element = soup.find('div', class_='page-info')\n",
        "    content_elements = soup.find_all('li', class_='item')\n",
        "\n",
        "    if bodypart_element:\n",
        "        bodypart = bodypart_element.get_text(strip=True)\n",
        "\n",
        "    if content_elements:\n",
        "        data = []\n",
        "        for content_element in content_elements:\n",
        "            content = content_element.get_text(strip=True)\n",
        "            data.append([content, bodypart])\n",
        "\n",
        "        # Write to CSV\n",
        "        with open('output.csv', 'a', newline='', encoding='utf-8') as file:\n",
        "            writer = csv.writer(file)\n",
        "            writer.writerows(data)\n",
        "\n",
        "        print(f\"Data from {url} written to output.csv successfully.\")\n",
        "\n",
        "# List of URLs to scrape\n",
        "urls = ['https://medlineplus.gov/bloodheartandcirculation.html',\n",
        "        'https://medlineplus.gov/bonesjointsandmuscles.html',\n",
        "        'https://medlineplus.gov/brainandnerves.html',\n",
        "        'https://medlineplus.gov/digestivesystem.html',\n",
        "        'https://medlineplus.gov/earnoseandthroat.html',\n",
        "        'https://medlineplus.gov/endocrinesystem.html',\n",
        "        'https://medlineplus.gov/eyesandvision.html',\n",
        "        'https://medlineplus.gov/immunesystem.html',\n",
        "        'https://medlineplus.gov/kidneysandurinarysystem.html',\n",
        "        'https://medlineplus.gov/lungsandbreathing.html',\n",
        "        'https://medlineplus.gov/mouthandteeth.html',\n",
        "        'https://medlineplus.gov/skinhairandnails.html',\n",
        "        'https://medlineplus.gov/femalereproductivesystem.html',\n",
        "        'https://medlineplus.gov/malereproductivesystem.html',\n",
        "        'https://medlineplus.gov/cancers.html',\n",
        "        'https://medlineplus.gov/diabetesmellitus.html',\n",
        "        'https://medlineplus.gov/geneticsbirthdefects.html',\n",
        "        'https://medlineplus.gov/infections.html',\n",
        "        'https://medlineplus.gov/mentalhealthandbehavior.html',\n",
        "        'https://medlineplus.gov/metabolicproblems.html',\n",
        "        'https://medlineplus.gov/injuriesandwounds.html',\n",
        "        'https://medlineplus.gov/poisoningtoxicologyenvironmentalhealth.html',\n",
        "        'https://medlineplus.gov/pregnancyandreproduction.html',\n",
        "        'https://medlineplus.gov/substanceabuseproblems.html',\n",
        "        'https://medlineplus.gov/complementaryandalternativetherapies.html',\n",
        "        'https://medlineplus.gov/diagnostictests.html',\n",
        "        'https://medlineplus.gov/drugtherapy.html',\n",
        "        'https://medlineplus.gov/surgeryandrehabilitation.html',\n",
        "        'https://medlineplus.gov/symptoms.html',\n",
        "        'https://medlineplus.gov/transplantationanddonation.html',\n",
        "        'https://medlineplus.gov/childrenandteenagers.html',\n",
        "        'https://medlineplus.gov/men.html',\n",
        "        'https://medlineplus.gov/olderadults.html',\n",
        "        'https://medlineplus.gov/populationgroups.html',\n",
        "        'https://medlineplus.gov/women.html']\n",
        "\n",
        "# Loop through the URLs and scrape data\n",
        "for url in urls:\n",
        "    scrape_data(url)\n"
      ]
    },
    {
      "cell_type": "markdown",
      "id": "b0a24056",
      "metadata": {
        "id": "b0a24056"
      },
      "source": [
        "We utilized CMS data from Maryland to acquire information regarding nearby hospitals with those medical specialists. The dataset can be accessed at https://data.cms.gov/provider-data/dataset/mj5m-pzi6."
      ]
    },
    {
      "cell_type": "code",
      "execution_count": null,
      "id": "95a4b42f",
      "metadata": {
        "id": "95a4b42f"
      },
      "outputs": [],
      "source": []
    }
  ],
  "metadata": {
    "kernelspec": {
      "display_name": "Python 3 (ipykernel)",
      "language": "python",
      "name": "python3"
    },
    "language_info": {
      "codemirror_mode": {
        "name": "ipython",
        "version": 3
      },
      "file_extension": ".py",
      "mimetype": "text/x-python",
      "name": "python",
      "nbconvert_exporter": "python",
      "pygments_lexer": "ipython3",
      "version": "3.9.12"
    },
    "colab": {
      "provenance": [],
      "include_colab_link": true
    }
  },
  "nbformat": 4,
  "nbformat_minor": 5
}